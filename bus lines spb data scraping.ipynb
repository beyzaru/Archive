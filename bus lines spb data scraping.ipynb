{
  "cells": [
    {
      "cell_type": "markdown",
      "metadata": {
        "id": "view-in-github",
        "colab_type": "text"
      },
      "source": [
        "<a href=\"https://colab.research.google.com/github/beyzaru/beyza/blob/main/bus.ipynb\" target=\"_parent\"><img src=\"https://colab.research.google.com/assets/colab-badge.svg\" alt=\"Open In Colab\"/></a>"
      ]
    },
    {
      "cell_type": "code",
      "source": [
        "import pandas as pd\n",
        "import requests\n",
        "from bs4 import BeautifulSoup\n",
        "import csv"
      ],
      "metadata": {
        "id": "u48Dkr1qJzQL"
      },
      "execution_count": null,
      "outputs": []
    },
    {
      "cell_type": "markdown",
      "source": [
        "##  это исходный код для листа автобусов"
      ],
      "metadata": {
        "id": "CCRak0lPkOUq"
      }
    },
    {
      "cell_type": "code",
      "source": [
        "url = \"https://kudikina.ru/spb/bus/\"\n",
        "\n",
        "response = requests.get(url)\n",
        "html = response.text\n",
        "soup = BeautifulSoup(html, \"html.parser\")\n",
        "\n",
        "bus_list = []\n",
        "bus_links = []\n",
        "\n",
        "bus_items = soup.find_all(\"a\", class_=\"bus-item bus-icon\")\n",
        "for item in bus_items:\n",
        "    bus_number = item.text.strip()\n",
        "    # bus_route = item.find(\"span\").text.strip()\n",
        "    href_link = item[\"href\"]\n",
        "    bus_links.append(href_link)\n",
        "    # bus_list.append([bus_number, bus_route, href_link])\n",
        "    bus_list.append([bus_number, href_link])"
      ],
      "metadata": {
        "id": "Ml6rUzG6lSbh"
      },
      "execution_count": null,
      "outputs": []
    },
    {
      "cell_type": "code",
      "source": [
        "bus_list"
      ],
      "metadata": {
        "id": "aCkWrTLSmNyF"
      },
      "execution_count": null,
      "outputs": []
    },
    {
      "cell_type": "code",
      "source": [
        "bus_links"
      ],
      "metadata": {
        "id": "Tq45nSwlmz9B"
      },
      "execution_count": null,
      "outputs": []
    },
    {
      "cell_type": "markdown",
      "source": [
        "## Ссылки на автобусы"
      ],
      "metadata": {
        "id": "_rvPmuGGMUtt"
      }
    },
    {
      "cell_type": "code",
      "execution_count": null,
      "metadata": {
        "id": "PUHAkYow_vK1"
      },
      "outputs": [],
      "source": [
        "data = pd.read_csv(\"/content/drive/MyDrive/bus_list full.csv\")\n",
        "\n",
        "\n",
        "bus_links = data[\"Href Link\"]\n",
        "\n",
        "\n",
        "for bus_link in bus_links:\n",
        "    full_link = f\"https://kudikina.ru{bus_link}\"\n",
        "    print(full_link)\n"
      ]
    },
    {
      "cell_type": "code",
      "source": [
        "data[\"new_lınk\"] = \"https://kudikina.ru\" + data[\"Href Link\"]"
      ],
      "metadata": {
        "id": "a0hZ9TyzNB1r"
      },
      "execution_count": null,
      "outputs": []
    },
    {
      "cell_type": "markdown",
      "source": [
        "## Остановки для автобусов"
      ],
      "metadata": {
        "id": "EwGV1Z_dMpQB"
      }
    },
    {
      "cell_type": "code",
      "execution_count": null,
      "metadata": {
        "id": "ART-eIP4_91_"
      },
      "outputs": [],
      "source": [
        "# data = pd.read_csv(\"/content/drive/MyDrive/bus_list full.csv\")\n",
        "\n",
        "\n",
        "# bus_links = data[\"Href Link\"]\n",
        "\n",
        "\n",
        "for bus_link in bus_links:\n",
        "    full_link = f\"https://kudikina.ru{bus_link}/B\"\n",
        "    response = requests.get(full_link)\n",
        "\n",
        "    if response.status_code == 200:\n",
        "        soup = BeautifulSoup(response.text, \"html.parser\")\n",
        "        bus_stops = soup.find_all(\"div\", class_=\"bus-stop\")\n",
        "\n",
        "        print(f\" stops {full_link} link:\")\n",
        "        for stop in bus_stops:\n",
        "            stop_name = stop.find(\"a\").text.strip()\n",
        "            print(f\"{stop_name}\")"
      ]
    },
    {
      "cell_type": "markdown",
      "source": [
        "### Скачать данные"
      ],
      "metadata": {
        "id": "BDTdJ80yOQxc"
      }
    },
    {
      "cell_type": "code",
      "execution_count": null,
      "metadata": {
        "id": "yeZN4TRYAK9G"
      },
      "outputs": [],
      "source": [
        "import pandas as pd\n",
        "from google.colab import files\n",
        "\n",
        "df = pd.DataFrame(data)\n",
        "df.to_csv(\"bus_stopsb.csv\", index=False)\n",
        "\n",
        "files.download('bus_stopsb.csv')"
      ]
    },
    {
      "cell_type": "markdown",
      "source": [
        "## Расписание для маршрутов и остановок\n",
        "### It works!!!!!!!!!!!!!!!!!:))))"
      ],
      "metadata": {
        "id": "h0dBKi5sKnnc"
      }
    },
    {
      "cell_type": "code",
      "execution_count": null,
      "metadata": {
        "id": "j9rIQIz9V25i"
      },
      "outputs": [],
      "source": [
        "# data = pd.read_csv(\"/content/drive/MyDrive/bus_list full.csv\")\n",
        "# bus_links = data[\"Href Link\"]\n",
        "\n",
        "def print_bus_stops(soup):\n",
        "  bus_stops = soup.find(\"div\", class_=\"bus-stops\")\n",
        "\n",
        "  for bus_stop in bus_stops.find_all(\"div\", class_=\"row\"):\n",
        "    stop_name = bus_stop.find(\"div\", class_=\"bus-stop\").text.strip()\n",
        "\n",
        "    print(stop_name)\n",
        "\n",
        "    table_data = bus_stop.find(\"table\")\n",
        "\n",
        "    if table_data is not None:\n",
        "      interval_data = bus_stop.find(\"div\" , class_=\"interval-times\")\n",
        "      print(interval_data.text.strip())\n",
        "      print()\n",
        "      print(table_data.text.strip())\n",
        "      print()\n",
        "    else:\n",
        "      list_data = bus_stop.find(\"div\" , class_=\"stop-times\")\n",
        "      if list_data is not None:\n",
        "        print(list_data.text.strip())\n",
        "        print()\n",
        "\n",
        "\n",
        "for bus_link in bus_links:\n",
        "    full_link = f\"https://kudikina.ru{bus_link}/A\"\n",
        "    response = requests.get(full_link)\n",
        "\n",
        "    if response.status_code == 200:\n",
        "      soup = BeautifulSoup(response.text, \"lxml\")\n",
        "      bus_menu = soup.find(\"ul\", class_=\"bus-menu\")\n",
        "      bus_menu_count = len(list(bus_menu.find_all(\"li\")))\n",
        "\n",
        "      print()\n",
        "      print(f\"Stops for {full_link} link:\")\n",
        "\n",
        "      try:\n",
        "        print_bus_stops(soup)\n",
        "      except Exception as e:\n",
        "        print(f\"Error in extracting stops for bus {full_link}: {e}\")\n",
        "\n",
        "      if bus_menu_count > 1:\n",
        "        backwards_full_link = f\"https://kudikina.ru{bus_link}/B\"\n",
        "        response = requests.get(backwards_full_link)\n",
        "\n",
        "        if response.status_code == 200:\n",
        "          soup = BeautifulSoup(response.text, \"lxml\")\n",
        "\n",
        "          print()\n",
        "          print(f\"Stops for {backwards_full_link} link:\")\n",
        "\n",
        "          try:\n",
        "            print_bus_stops(soup)\n",
        "          except Exception as e:\n",
        "            print(f\"Error in extracting stops for bus {backwards_full_link}: {e}\")\n",
        "\n",
        "    else:\n",
        "      print(f\"Failed to retrieve data for {full_link}\")\n"
      ]
    }
  ],
  "metadata": {
    "colab": {
      "provenance": [],
      "mount_file_id": "1zRv0yBHcRnWuqM3GTyyCuVDNcv3LmV3n",
      "authorship_tag": "ABX9TyPc9VscNLe6EuWXkd8ciYYA",
      "include_colab_link": true
    },
    "kernelspec": {
      "display_name": "Python 3",
      "name": "python3"
    },
    "language_info": {
      "name": "python"
    }
  },
  "nbformat": 4,
  "nbformat_minor": 0
}
